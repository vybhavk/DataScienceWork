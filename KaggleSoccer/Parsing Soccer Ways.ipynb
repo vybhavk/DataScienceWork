{
 "cells": [
  {
   "cell_type": "code",
   "execution_count": 99,
   "metadata": {
    "ExecuteTime": {
     "end_time": "2017-05-04T18:48:43.025235Z",
     "start_time": "2017-05-04T11:48:43.012671-07:00"
    }
   },
   "outputs": [],
   "source": [
    "import requests\n",
    "import re\n",
    "import time\n",
    "import datetime\n",
    "import json\n",
    "from tqdm import tqdm\n",
    "import numpy as np\n",
    "import seaborn as sns\n",
    "import pandas as pd\n",
    "import parser\n",
    "import random\n",
    "from collections import Counter\n",
    "from bs4 import BeautifulSoup\n",
    "from sklearn import preprocessing\n",
    "import urllib\n",
    "import matplotlib.pyplot as plt\n",
    "import imp\n",
    "imp.reload(parser)\n",
    "%matplotlib inline"
   ]
  },
  {
   "cell_type": "code",
   "execution_count": 2,
   "metadata": {
    "ExecuteTime": {
     "end_time": "2017-05-04T16:34:18.535864Z",
     "start_time": "2017-05-04T09:34:17.709139-07:00"
    },
    "collapsed": true
   },
   "outputs": [],
   "source": [
    "team_searched = 'PSG Paris'\n",
    "team = {}\n",
    "team_searched = urllib.parse.quote(team_searched.encode('utf-8'))\n",
    "search_link = \"http://us.soccerway.com/search/teams/?q={}\".format(team_searched)\n",
    "response = requests.get(search_link)\n",
    "bs = BeautifulSoup(response.text, 'lxml')\n",
    "results = bs.find(\"ul\", class_='search-results')\n",
    "# Take the first results\n",
    "link = \"http://us.soccerway.com\" + results.find_all('a')[0]['href']\n",
    "team['id_'] = results.find_all('a')[0][\"href\"].split('/')[4]\n",
    "team['name'] = results.find_all('a')[0].text"
   ]
  },
  {
   "cell_type": "markdown",
   "metadata": {
    "ExecuteTime": {
     "end_time": "2017-05-03T23:39:27.525552Z",
     "start_time": "2017-05-03T16:39:27.523177-07:00"
    }
   },
   "source": [
    "## Games"
   ]
  },
  {
   "cell_type": "markdown",
   "metadata": {
    "ExecuteTime": {
     "end_time": "2017-05-04T18:40:05.340087Z",
     "start_time": "2017-05-04T11:40:05.337090-07:00"
    }
   },
   "source": [
    "### Parsing"
   ]
  },
  {
   "cell_type": "code",
   "execution_count": 67,
   "metadata": {
    "ExecuteTime": {
     "end_time": "2017-05-04T18:40:12.129705Z",
     "start_time": "2017-05-04T11:40:12.120918-07:00"
    }
   },
   "outputs": [],
   "source": [
    "nb_pages = 5\n",
    "games = []\n",
    "for page_number in range(nb_pages):\n",
    "    link_base = 'http://us.soccerway.com/a/block_team_matches?block_id=page_team_1_block_team_matches_3&callback_params=' \n",
    "    link_ = urllib.parse.quote('{\"page\":0,\"bookmaker_urls\":[],\"block_service_id\":\"team_matches_block_teammatches\",\"team_id\":%s,\\\n",
    "    \"competition_id\":0,\"filter\":\"all\",\"new_design\":false}' % team['id_']) + '&action=changePage&params=' + urllib.parse.quote('{\"page\":-%s}' % (page_number))\n",
    "    link = link_base + link_\n",
    "    response = requests.get(link)\n",
    "\n",
    "    test = json.loads(response.text)['commands'][0]['parameters']['content']\n",
    "    bs = BeautifulSoup(test, 'lxml')\n",
    "\n",
    "    for kind in ['even', 'odd']:\n",
    "        for elem in bs.find_all('tr', class_ = kind):\n",
    "            game = {}\n",
    "            game[\"date\"] = elem.find('td', {'class': [\"full-date\"]}).text\n",
    "            game[\"competition\"] = elem.find('td', {'class': [\"competition\"]}).text\n",
    "            game[\"team_a\"] = elem.find('td', class_='team-a').text\n",
    "            game[\"team_b\"] = elem.find('td', class_='team-b').text\n",
    "            game['link'] = \"http://us.soccerway.com\" + elem.find('td', class_='score-time').find('a')['href']\n",
    "            game[\"score\"] = elem.find('td', class_='score-time').text.replace(' ','')\n",
    "            if 'E' in game[\"score\"]:\n",
    "                game[\"score\"] = game['score'].replace('E','')\n",
    "                game['extra_time'] = True\n",
    "            if 'P' in game[\"score\"]:\n",
    "                game[\"score\"] = game['score'].replace('P','')\n",
    "                game['penalties'] = True\n",
    "            if datetime.datetime.strptime(game[\"date\"], '%d/%m/%y') < datetime.datetime.now():\n",
    "                game = parser.get_score_details(game, team)\n",
    "                time.sleep(random.uniform(0, 0.25))\n",
    "                game.update(parser.get_goals(game['link']))\n",
    "            else:\n",
    "                del game['score']\n",
    "            games.append(game)\n",
    "    games = sorted(games, key=lambda x:datetime.datetime.strptime(x['date'], '%d/%m/%y'))"
   ]
  },
  {
   "cell_type": "markdown",
   "metadata": {},
   "source": [
    "### Analysis"
   ]
  },
  {
   "cell_type": "code",
   "execution_count": null,
   "metadata": {
    "collapsed": true
   },
   "outputs": [],
   "source": [
    "def shot_team(row, columns):\n",
    "    try:\n",
    "        for col in columns:\n",
    "            if row['team_a'] == 'PSG':\n",
    "                row['{}_PSG'.format(col.lower().replace(' ','_'))] = row[col]['team_a'] \n",
    "                row['{}_adv'.format(col.lower().replace(' ','_'))] = row[col]['team_b'] \n",
    "            else:\n",
    "                row['{}_PSG'.format(col.lower().replace(' ','_'))] = row[col]['team_b'] \n",
    "                row['{}_adv'.format(col.lower().replace(' ','_'))] = row[col]['team_a']\n",
    "    except:\n",
    "        pass\n",
    "    return row"
   ]
  },
  {
   "cell_type": "code",
   "execution_count": 148,
   "metadata": {
    "ExecuteTime": {
     "end_time": "2017-05-04T19:13:07.009865Z",
     "start_time": "2017-05-04T12:13:05.642806-07:00"
    },
    "scrolled": false
   },
   "outputs": [
    {
     "data": {
      "text/html": [
       "<div>\n",
       "<table border=\"1\" class=\"dataframe\">\n",
       "  <thead>\n",
       "    <tr style=\"text-align: right;\">\n",
       "      <th></th>\n",
       "      <th>competition</th>\n",
       "      <th>corners_PSG</th>\n",
       "      <th>corners_adv</th>\n",
       "      <th>date</th>\n",
       "      <th>extra_time</th>\n",
       "      <th>fouls_PSG</th>\n",
       "      <th>fouls_adv</th>\n",
       "      <th>goals_a</th>\n",
       "      <th>goals_b</th>\n",
       "      <th>link</th>\n",
       "      <th>...</th>\n",
       "      <th>score</th>\n",
       "      <th>shots_on_target_PSG</th>\n",
       "      <th>shots_on_target_adv</th>\n",
       "      <th>shots_wide_PSG</th>\n",
       "      <th>shots_wide_adv</th>\n",
       "      <th>subs_in_a</th>\n",
       "      <th>subs_in_b</th>\n",
       "      <th>team_a</th>\n",
       "      <th>team_b</th>\n",
       "      <th>year</th>\n",
       "    </tr>\n",
       "  </thead>\n",
       "  <tbody>\n",
       "    <tr>\n",
       "      <th>242</th>\n",
       "      <td>LI1</td>\n",
       "      <td>8.0</td>\n",
       "      <td>2.0</td>\n",
       "      <td>2017-04-30</td>\n",
       "      <td>NaN</td>\n",
       "      <td>15.0</td>\n",
       "      <td>11.0</td>\n",
       "      <td>[{'assist': 'Ricardo Pereira', 'player': 'M. B...</td>\n",
       "      <td>[{'assist': 'Thiago Silva', 'player': 'Marquin...</td>\n",
       "      <td>http://us.soccerway.com/matches/2017/04/30/fra...</td>\n",
       "      <td>...</td>\n",
       "      <td>3-1</td>\n",
       "      <td>5.0</td>\n",
       "      <td>1.0</td>\n",
       "      <td>9.0</td>\n",
       "      <td>3.0</td>\n",
       "      <td>[A. Donis, M. Le Bihan, M. Obbadi]</td>\n",
       "      <td>[T. Meunier, A. Rabiot, Lucas Moura]</td>\n",
       "      <td>Nice</td>\n",
       "      <td>PSG</td>\n",
       "      <td>2017</td>\n",
       "    </tr>\n",
       "    <tr>\n",
       "      <th>241</th>\n",
       "      <td>CDF</td>\n",
       "      <td>13.0</td>\n",
       "      <td>1.0</td>\n",
       "      <td>2017-04-26</td>\n",
       "      <td>NaN</td>\n",
       "      <td>6.0</td>\n",
       "      <td>10.0</td>\n",
       "      <td>[{'assist': 'E. Cavani', 'player': 'J. Draxler...</td>\n",
       "      <td>[]</td>\n",
       "      <td>http://us.soccerway.com/matches/2017/04/26/fra...</td>\n",
       "      <td>...</td>\n",
       "      <td>5-0</td>\n",
       "      <td>8.0</td>\n",
       "      <td>3.0</td>\n",
       "      <td>8.0</td>\n",
       "      <td>1.0</td>\n",
       "      <td>[Lucas Moura, A. Rabiot, Gonçalo Guedes]</td>\n",
       "      <td>[A. Bongiovanni, K. Dabila]</td>\n",
       "      <td>PSG</td>\n",
       "      <td>Monaco</td>\n",
       "      <td>2017</td>\n",
       "    </tr>\n",
       "    <tr>\n",
       "      <th>240</th>\n",
       "      <td>LI1</td>\n",
       "      <td>6.0</td>\n",
       "      <td>6.0</td>\n",
       "      <td>2017-04-22</td>\n",
       "      <td>NaN</td>\n",
       "      <td>9.0</td>\n",
       "      <td>5.0</td>\n",
       "      <td>[{'assist': 'B. Matuidi', 'player': 'E. Cavani...</td>\n",
       "      <td>[]</td>\n",
       "      <td>http://us.soccerway.com/matches/2017/04/22/fra...</td>\n",
       "      <td>...</td>\n",
       "      <td>2-0</td>\n",
       "      <td>7.0</td>\n",
       "      <td>4.0</td>\n",
       "      <td>5.0</td>\n",
       "      <td>7.0</td>\n",
       "      <td>[J. Draxler, Lucas Moura, G. Lo Celso]</td>\n",
       "      <td>[J. Ikoné, K. Dolly, S. Camara]</td>\n",
       "      <td>PSG</td>\n",
       "      <td>Montpellier</td>\n",
       "      <td>2017</td>\n",
       "    </tr>\n",
       "    <tr>\n",
       "      <th>239</th>\n",
       "      <td>LI1</td>\n",
       "      <td>8.0</td>\n",
       "      <td>1.0</td>\n",
       "      <td>2017-04-18</td>\n",
       "      <td>NaN</td>\n",
       "      <td>11.0</td>\n",
       "      <td>12.0</td>\n",
       "      <td>[{'player': 'Y. Jouffre', 'time': '78'}, {'ass...</td>\n",
       "      <td>[{'assist': 'Maxwell', 'player': 'E. Cavani', ...</td>\n",
       "      <td>http://us.soccerway.com/matches/2017/04/18/fra...</td>\n",
       "      <td>...</td>\n",
       "      <td>2-3</td>\n",
       "      <td>7.0</td>\n",
       "      <td>1.0</td>\n",
       "      <td>5.0</td>\n",
       "      <td>3.0</td>\n",
       "      <td>[I. Sarr, C. Diabaté, Y. Jouffre]</td>\n",
       "      <td>[J. Pastore, Gonçalo Guedes]</td>\n",
       "      <td>Metz</td>\n",
       "      <td>PSG</td>\n",
       "      <td>2017</td>\n",
       "    </tr>\n",
       "    <tr>\n",
       "      <th>238</th>\n",
       "      <td>LI1</td>\n",
       "      <td>1.0</td>\n",
       "      <td>5.0</td>\n",
       "      <td>2017-04-14</td>\n",
       "      <td>NaN</td>\n",
       "      <td>10.0</td>\n",
       "      <td>13.0</td>\n",
       "      <td>[]</td>\n",
       "      <td>[{'player': 'Á. di María', 'time': '28'}, {'as...</td>\n",
       "      <td>http://us.soccerway.com/matches/2017/04/14/fra...</td>\n",
       "      <td>...</td>\n",
       "      <td>0-2</td>\n",
       "      <td>0.0</td>\n",
       "      <td>8.0</td>\n",
       "      <td>7.0</td>\n",
       "      <td>8.0</td>\n",
       "      <td>[J. Bamba, K. Bérigaud]</td>\n",
       "      <td>[Lucas Moura, T. Motta, Gonçalo Guedes]</td>\n",
       "      <td>Angers SCO</td>\n",
       "      <td>PSG</td>\n",
       "      <td>2017</td>\n",
       "    </tr>\n",
       "  </tbody>\n",
       "</table>\n",
       "<p>5 rows × 30 columns</p>\n",
       "</div>"
      ],
      "text/plain": [
       "    competition  corners_PSG  corners_adv       date extra_time  fouls_PSG  \\\n",
       "242         LI1          8.0          2.0 2017-04-30        NaN       15.0   \n",
       "241         CDF         13.0          1.0 2017-04-26        NaN        6.0   \n",
       "240         LI1          6.0          6.0 2017-04-22        NaN        9.0   \n",
       "239         LI1          8.0          1.0 2017-04-18        NaN       11.0   \n",
       "238         LI1          1.0          5.0 2017-04-14        NaN       10.0   \n",
       "\n",
       "     fouls_adv                                            goals_a  \\\n",
       "242       11.0  [{'assist': 'Ricardo Pereira', 'player': 'M. B...   \n",
       "241       10.0  [{'assist': 'E. Cavani', 'player': 'J. Draxler...   \n",
       "240        5.0  [{'assist': 'B. Matuidi', 'player': 'E. Cavani...   \n",
       "239       12.0  [{'player': 'Y. Jouffre', 'time': '78'}, {'ass...   \n",
       "238       13.0                                                 []   \n",
       "\n",
       "                                               goals_b  \\\n",
       "242  [{'assist': 'Thiago Silva', 'player': 'Marquin...   \n",
       "241                                                 []   \n",
       "240                                                 []   \n",
       "239  [{'assist': 'Maxwell', 'player': 'E. Cavani', ...   \n",
       "238  [{'player': 'Á. di María', 'time': '28'}, {'as...   \n",
       "\n",
       "                                                  link  ...   score  \\\n",
       "242  http://us.soccerway.com/matches/2017/04/30/fra...  ...     3-1   \n",
       "241  http://us.soccerway.com/matches/2017/04/26/fra...  ...     5-0   \n",
       "240  http://us.soccerway.com/matches/2017/04/22/fra...  ...     2-0   \n",
       "239  http://us.soccerway.com/matches/2017/04/18/fra...  ...     2-3   \n",
       "238  http://us.soccerway.com/matches/2017/04/14/fra...  ...     0-2   \n",
       "\n",
       "     shots_on_target_PSG  shots_on_target_adv  shots_wide_PSG  shots_wide_adv  \\\n",
       "242                  5.0                  1.0             9.0             3.0   \n",
       "241                  8.0                  3.0             8.0             1.0   \n",
       "240                  7.0                  4.0             5.0             7.0   \n",
       "239                  7.0                  1.0             5.0             3.0   \n",
       "238                  0.0                  8.0             7.0             8.0   \n",
       "\n",
       "                                    subs_in_a  \\\n",
       "242        [A. Donis, M. Le Bihan, M. Obbadi]   \n",
       "241  [Lucas Moura, A. Rabiot, Gonçalo Guedes]   \n",
       "240    [J. Draxler, Lucas Moura, G. Lo Celso]   \n",
       "239         [I. Sarr, C. Diabaté, Y. Jouffre]   \n",
       "238                   [J. Bamba, K. Bérigaud]   \n",
       "\n",
       "                                   subs_in_b      team_a       team_b  year  \n",
       "242     [T. Meunier, A. Rabiot, Lucas Moura]        Nice          PSG  2017  \n",
       "241              [A. Bongiovanni, K. Dabila]         PSG       Monaco  2017  \n",
       "240          [J. Ikoné, K. Dolly, S. Camara]         PSG  Montpellier  2017  \n",
       "239             [J. Pastore, Gonçalo Guedes]        Metz          PSG  2017  \n",
       "238  [Lucas Moura, T. Motta, Gonçalo Guedes]  Angers SCO          PSG  2017  \n",
       "\n",
       "[5 rows x 30 columns]"
      ]
     },
     "execution_count": 148,
     "metadata": {},
     "output_type": "execute_result"
    }
   ],
   "source": [
    "df = pd.DataFrame(games)\n",
    "df.date = pd.to_datetime(df.date.apply(lambda x:'/'.join([x.split('/')[1],x.split('/')[0], x.split('/')[2]])))\n",
    "df['month'] = df.date.apply(lambda x:x.month)\n",
    "df['year'] = df.date.apply(lambda x:x.year)\n",
    "df = df.sort_values('date', ascending=False)\n",
    "# le = preprocessing.LabelEncoder()\n",
    "# df.competition = le.fit_transform(df.competition)\n",
    "df = df[df.date < datetime.datetime.now()]\n",
    "df[['competition', 'date', 'result', 'team_a', 'score', 'team_b', 'players_teams_a', 'players_team_b']].head()\n",
    "cols = ['Corners', 'Fouls', 'Offsides', 'Shots on target', 'Shots wide']\n",
    "df = df.apply(lambda x:shot_team(x, cols),axis=1)\n",
    "df = df.drop(cols, axis=1)\n",
    "df.head()"
   ]
  },
  {
   "cell_type": "code",
   "execution_count": 193,
   "metadata": {
    "ExecuteTime": {
     "end_time": "2017-05-04T19:31:50.605478Z",
     "start_time": "2017-05-04T12:31:49.023183-07:00"
    },
    "scrolled": false
   },
   "outputs": [
    {
     "data": {
      "text/plain": [
       "<matplotlib.text.Text at 0x1239d6240>"
      ]
     },
     "execution_count": 193,
     "metadata": {},
     "output_type": "execute_result"
    },
    {
     "data": {
      "image/png": "[encoded data removed]",
      "text/plain": [
       "<matplotlib.figure.Figure at 0x1233fd8d0>"
      ]
     },
     "metadata": {},
     "output_type": "display_data"
    }
   ],
   "source": [
    "f, ax = plt.subplots(ncols=3, nrows=3, figsize=(20,10))\n",
    "\n",
    "d = df.competition.value_counts()\n",
    "sns.barplot(d.index, d, ax=ax[0][0])\n",
    "ax[0][0].set_title('Competition distribution')\n",
    "\n",
    "d = {'Scored':df.nb_goals_PSG.mean(), 'Conceided':df.nb_goals_adv.mean()}\n",
    "sns.barplot(list(d.keys()), list(d.values()) , ax=ax[1][0])\n",
    "ax[1][0].set_title('Mean scores')\n",
    "\n",
    "d = sorted(Counter(np.concatenate(list(df.players_teams_a) + list(df.players_team_b))).items(), key=lambda x:x[1], reverse=True)[:6]\n",
    "sns.barplot([elem[0] for elem in d], [elem[1] for elem in d], ax=ax[2][0])\n",
    "ax[2][0].set_title('Most occurence in lineup')\n",
    "\n",
    "d = df.month.value_counts()\n",
    "sns.barplot(d.index, d, ax=ax[0][1])\n",
    "ax[0][1].set_title('Monthly distribution')\n",
    "\n",
    "d = {'Shots':df.shots_on_target_PSG.mean(), 'Conceided':df.shots_on_target_adv.mean()}\n",
    "sns.barplot(list(d.keys()), list(d.values()) ,ax=ax[1][1])\n",
    "ax[1][1].set_title('Shots on target')\n",
    "\n",
    "d = sorted(Counter(np.concatenate(list(df.subs_in_a) + list(df.subs_in_b))).items(), key=lambda x:x[1], reverse=True)[:6]\n",
    "sns.barplot([elem[0] for elem in d], [elem[1] for elem in d], ax=ax[2][1])\n",
    "ax[2][1].set_title('Most occurence as a sub')\n",
    "\n",
    "d = pd.DataFrame(pd.concat([df.team_a, df.team_b]))[0].value_counts()[1:7]\n",
    "plot = sns.barplot(d.index, d, ax=ax[0][2])\n",
    "_ = plot.set_xticklabels([elem[:12] for elem in d.index], rotation=15)\n",
    "ax[0][2].set_title('Opponent distribution')\n",
    "\n",
    "d = sorted(Counter([elem['player'] for elem in np.concatenate(list(df.goals_a) + list(df.goals_b))]).items(), key=lambda x:x[1], reverse=True)[:6]\n",
    "plot = sns.barplot([elem[0] for elem in d], [elem[1] for elem in d], ax=ax[1][2])\n",
    "_ = plot.set_xticklabels([elem[0] for elem in d], rotation=15)\n",
    "ax[1][2].set_title('Goal scorers')\n",
    "\n",
    "d = sorted(Counter([elem['assist'] for elem in np.concatenate(list(df.goals_a) + list(df.goals_b)) if 'assist' in elem]).items(), key=lambda x:x[1], reverse=True)[:6]\n",
    "plot = sns.barplot([elem[0] for elem in d], [elem[1] for elem in d], ax=ax[2][2])\n",
    "_ = plot.set_xticklabels([elem[0] for elem in d], rotation=15)\n",
    "ax[2][2].set_title('Assist player')"
   ]
  },
  {
   "cell_type": "code",
   "execution_count": null,
   "metadata": {
    "collapsed": true
   },
   "outputs": [],
   "source": []
  }
 ],
 "metadata": {
  "kernelspec": {
   "display_name": "workenv",
   "language": "python",
   "name": "workenv"
  },
  "language_info": {
   "codemirror_mode": {
    "name": "ipython",
    "version": 3
   },
   "file_extension": ".py",
   "mimetype": "text/x-python",
   "name": "python",
   "nbconvert_exporter": "python",
   "pygments_lexer": "ipython3",
   "version": "3.5.2"
  },
  "nav_menu": {},
  "toc": {
   "navigate_menu": true,
   "number_sections": true,
   "sideBar": true,
   "threshold": 6,
   "toc_cell": false,
   "toc_section_display": "block",
   "toc_window_display": false
  }
 },
 "nbformat": 4,
 "nbformat_minor": 2
}
