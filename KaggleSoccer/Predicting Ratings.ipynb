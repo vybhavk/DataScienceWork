{
 "cells": [
  {
   "cell_type": "code",
   "execution_count": 25,
   "metadata": {
    "ExecuteTime": {
     "end_time": "2017-05-21T05:03:03.866314Z",
     "start_time": "2017-05-21T05:03:03.851669Z"
    },
    "collapsed": true
   },
   "outputs": [],
   "source": [
    "import pandas as pd\n",
    "import numpy as np\n",
    "import seaborn as sns\n",
    "import matplotlib.pyplot as plt\n",
    "import imp\n",
    "import json\n",
    "from sklearn.preprocessing import LabelEncoder\n",
    "from sklearn.ensemble import RandomForestRegressor, RandomForestClassifier, GradientBoostingRegressor\n",
    "from sklearn.linear_model import Ridge, LinearRegression, Lasso\n",
    "from sklearn.kernel_ridge import KernelRidge\n",
    "from sklearn.svm import SVR, LinearSVC\n",
    "from sklearn.model_selection import train_test_split\n",
    "import whoscored\n",
    "from unidecode import unidecode\n",
    "import pickle\n",
    "import difflib\n",
    "import glob\n",
    "%matplotlib inline"
   ]
  },
  {
   "cell_type": "markdown",
   "metadata": {},
   "source": [
    "## Data Processing"
   ]
  },
  {
   "cell_type": "code",
   "execution_count": 17,
   "metadata": {
    "ExecuteTime": {
     "end_time": "2017-05-21T05:00:15.202603Z",
     "start_time": "2017-05-21T05:00:15.081729Z"
    },
    "collapsed": true
   },
   "outputs": [],
   "source": [
    "teams = {}\n",
    "for file in glob.glob('./games/*.json'):\n",
    "    with open(file,'r') as f:\n",
    "        teams[file.split('/')[2].split('_')[0]] = json.load(f)"
   ]
  },
  {
   "cell_type": "code",
   "execution_count": 21,
   "metadata": {
    "ExecuteTime": {
     "end_time": "2017-05-21T05:01:41.986757Z",
     "start_time": "2017-05-21T05:01:41.952494Z"
    },
    "collapsed": true
   },
   "outputs": [],
   "source": [
    "def get_position_sub(row):\n",
    "    if row['Position'] == 'Sub':\n",
    "        name = row['Player']\n",
    "        try:\n",
    "            row['Position'] = [k for k in df[df.Player == name].Position.value_counts().index if k !='Sub'][0]\n",
    "        except:\n",
    "            row['Position'] = 'substitute'\n",
    "    return row\n",
    "\n",
    "stop_words = ['<','Bl.', 'Exc.', '>']\n",
    "def mean_rating(row):\n",
    "    if pd.isnull(row['Rating_LEquipe']) or row['Rating_LEquipe'] in stop_words:\n",
    "        name = row['Player']\n",
    "        temp = df[(df.Player == name) & (~df.Rating_LEquipe.isin(stop_words)) & (pd.notnull(df.Rating_LEquipe))]\n",
    "        if len(temp) > 4:\n",
    "            row['Rating_LEquipe'] = np.mean(temp.Rating_LEquipe.apply(int))\n",
    "    return row\n",
    "\n",
    "position_mapping = {'attackingmidfieldcenter' : 'attackingmidfield',\n",
    " 'attackingmidfieldleft' : 'attackingmidfield',\n",
    " 'attackingmidfieldright' : 'attackingmidfield',\n",
    " 'defenderleft' : 'defenderlateral',\n",
    " 'defendermidfieldcenter' : \"defendermidfield\",\n",
    " 'defendermidfieldleft' : 'defendermidfield',\n",
    " 'defendermidfieldright': \"defendermidfield\",\n",
    " 'defenderright': 'defenderlateral',\n",
    " 'forwardleft' : 'forwardlateral',\n",
    " 'forwardright' : 'forwardlateral',\n",
    " 'midfieldcenter' :'midfield' ,\n",
    " 'midfieldleft' :'midfield' ,\n",
    " 'midfieldright' :'midfield' }\n",
    "\n",
    "mapping_team_name = {'ASM': 'Monaco',\n",
    " 'ASNL': 'Nancy',\n",
    " 'ASSE': 'Saint-Etienne',\n",
    " 'DFCO': 'Dijon',\n",
    " 'EAG': 'Guingamp',\n",
    " 'FCGB': 'Bordeaux',\n",
    " 'FCL': 'Lorient',\n",
    " 'FCM': 'Metz',\n",
    " 'FCN': 'Nantes',\n",
    " 'Losc': 'Lille',\n",
    " 'MHSC': 'Montpellier',\n",
    " 'Man. City': 'Manchester City',\n",
    " 'Man. United': 'Manchester United',\n",
    " 'OGCN': 'Nice',\n",
    " 'OL': 'Lyon',\n",
    " 'OM': 'Marseille',\n",
    " 'PSG': 'Paris Saint Germain',\n",
    " 'Palace': 'Crystal Palace',\n",
    " 'SCB': 'SC Bastia',\n",
    " 'SCO': 'Angers',\n",
    " 'SMC': 'Caen',\n",
    " 'SRFC': 'Rennes',\n",
    " 'Stoke City': 'Stoke',\n",
    " 'TFC': 'Toulouse',\n",
    " 'WBA': 'West Bromwich Albion'}"
   ]
  },
  {
   "cell_type": "code",
   "execution_count": null,
   "metadata": {
    "ExecuteTime": {
     "start_time": "2017-05-21T05:41:31.978Z"
    },
    "collapsed": true
   },
   "outputs": [],
   "source": [
    "df = pd.DataFrame()\n",
    "for team, file in teams.items():\n",
    "    for i, game in enumerate(file):\n",
    "        temp = pd.DataFrame(game['stats'])\n",
    "        temp['Opponent'] = game['opponent']\n",
    "        temp['Place'] = game['place'].title()\n",
    "        result = game['result'].split(' : ')\n",
    "        temp['Goal Team'] = int(result[int(game['place'] == 'away')])\n",
    "        temp['Goal Opponent'] = int(result[int(game['place'] == 'home')])\n",
    "        temp['Team'] = {'psg':'Paris Saint Germain'}.get(team, team).title()\n",
    "        temp['Team'] = {'Bastia': 'SC Bastia'}.get(temp['Team'][0], temp['Team'][0])\n",
    "        temp['Day'] = i+1\n",
    "        df = pd.concat([df, temp])\n",
    "df = df.apply(whoscored.get_name, axis=1).reset_index(drop=True)\n",
    "df['LineUp'] = 1\n",
    "df.loc[df.Position == 'Sub', 'LineUp'] = 0\n",
    "df = df.apply(get_position_sub, axis=1)\n",
    "df.Goal.fillna(0, inplace=True)\n",
    "df.Assist.fillna(0, inplace=True)\n",
    "df.Yellowcard.fillna(0, inplace=True)\n",
    "df.Redcard.fillna(0, inplace=True)\n",
    "df.Penaltymissed.fillna(0, inplace=True)\n",
    "df.Shotonpost.fillna(0, inplace=True)\n",
    "# df.Position = df.Position.apply(lambda x:position_mapping.get(x,x))"
   ]
  },
  {
   "cell_type": "code",
   "execution_count": null,
   "metadata": {
    "ExecuteTime": {
     "start_time": "2017-05-21T05:41:32.736Z"
    }
   },
   "outputs": [],
   "source": [
    "with open('./ratings/notes_ligue1_lequipe.json','r') as f:\n",
    "    rating_lequipe  = json.load(f)\n",
    "rating_lequipe = {mapping_team_name.get(k,k):[p for p in v if list(p.keys())[0] != 'Nom' and len(list(p.values())[0]) > 0] \n",
    "                    for k,v in rating_lequipe.items()}"
   ]
  },
  {
   "cell_type": "code",
   "execution_count": null,
   "metadata": {
    "ExecuteTime": {
     "start_time": "2017-05-21T05:41:33.527Z"
    },
    "scrolled": true
   },
   "outputs": [],
   "source": [
    "for team_name, rating_team in rating_lequipe.items():\n",
    "    if team_name in set(df.Team):\n",
    "        players_lequipe = [list(k.keys())[0] for k in rating_team]\n",
    "        players_df = list(set(df[df.Team == team_name].Player))\n",
    "        for player in rating_team:\n",
    "            [(player_name, player_ratings)] = player.items()\n",
    "            try:\n",
    "                player_name_df = difflib.get_close_matches(player_name, players_df)[0]\n",
    "            except:\n",
    "                if len(unidecode(player_name).split('-')) > 1 :\n",
    "                    player_name_df = [k for k in players_df if unidecode(player_name).split('-')[0].replace(\"'\",\"\").lower() in unidecode(k).replace(\"'\",\"\").lower()\n",
    "                                                             or unidecode(player_name).split('-')[1].replace(\"'\",\"\").lower() in unidecode(k).replace(\"'\",\"\").lower()][0]\n",
    "                else:\n",
    "                    player_name_df = [k for k in players_df if unidecode(player_name).replace(\"'\",\"\").lower() in unidecode(k).replace(\"'\",\"\").lower()][0]\n",
    "            for day, rating in player_ratings.items():\n",
    "                df.loc[(df.Player == player_name_df) & (df.Team == team_name) & (df.Day == int(day.split('Day ')[1])), 'Rating_LEquipe'] = rating\n",
    "df = df.apply(mean_rating, axis=1)\n",
    "df.drop('null', axis=1, inplace=True)"
   ]
  },
  {
   "cell_type": "code",
   "execution_count": null,
   "metadata": {
    "ExecuteTime": {
     "start_time": "2017-05-21T05:41:36.216Z"
    },
    "scrolled": true
   },
   "outputs": [],
   "source": [
    "print('%d/%d données avec une note l\\'Équipe' % (len(df[(~df.Rating_LEquipe.isin(stop_words)) & (pd.notnull(df.Rating_LEquipe))]),\n",
    "                                                len(df)))\n",
    "df[['Team','Goal Team', 'Goal Opponent', 'Player', 'Goal',\n",
    "    'Opponent', 'Day', 'Position', 'Age', 'LineUp', 'Rating_LEquipe']].sort_values('Player').sample(8)"
   ]
  },
  {
   "cell_type": "code",
   "execution_count": null,
   "metadata": {
    "collapsed": true
   },
   "outputs": [],
   "source": [
    "with open('./df.pkl', rb') as f:\n",
    "    df = pickle.load(f)"
   ]
  },
  {
   "cell_type": "code",
   "execution_count": 135,
   "metadata": {
    "ExecuteTime": {
     "end_time": "2017-05-21T05:37:33.946155Z",
     "start_time": "2017-05-21T05:37:33.915224Z"
    },
    "collapsed": true
   },
   "outputs": [],
   "source": [
    "with open('./df.pkl', 'rb') as f:\n",
    "    df = pickle.load(f)"
   ]
  },
  {
   "cell_type": "code",
   "execution_count": 136,
   "metadata": {
    "ExecuteTime": {
     "end_time": "2017-05-21T05:37:41.157036Z",
     "start_time": "2017-05-21T05:37:41.052059Z"
    },
    "collapsed": true
   },
   "outputs": [],
   "source": [
    "other_cols = ['Day', \"Opponent\", \"Place\", \"Player\", \"Position\", \n",
    "                \"Team\", 'Key Events', \"Rating_LEquipe\"]\n",
    "col_delete = ['Key Events', \"Rating_LEquipe\", 'Rating']\n",
    "cols_to_transf = [col for col in df.columns if col not in other_cols]\n",
    "p = pd.concat([df[cols_to_transf].applymap(float), df[other_cols]], axis=1)\n",
    "new_col_to_remov = [e for e in p.columns if e.startswith('Acc')] + ['Touches']"
   ]
  },
  {
   "cell_type": "markdown",
   "metadata": {
    "ExecuteTime": {
     "end_time": "2017-05-20T18:57:44.123776Z",
     "start_time": "2017-05-20T18:57:44.118723Z"
    }
   },
   "source": [
    "## Learning"
   ]
  },
  {
   "cell_type": "code",
   "execution_count": 100,
   "metadata": {
    "ExecuteTime": {
     "end_time": "2017-05-21T05:26:49.793003Z",
     "start_time": "2017-05-21T05:26:49.778763Z"
    }
   },
   "outputs": [],
   "source": [
    "p = p[(~p.Rating_LEquipe.isin(stop_words)) & (pd.notnull(p.Rating_LEquipe))].set_index('Player')\n",
    "X = p[[col for col in p.columns if col not in col_delete + new_col_to_remov]]\n",
    "y = p['Rating_LEquipe'].apply(float)"
   ]
  },
  {
   "cell_type": "code",
   "execution_count": 101,
   "metadata": {
    "ExecuteTime": {
     "end_time": "2017-05-21T05:26:50.768232Z",
     "start_time": "2017-05-21T05:26:50.556177Z"
    }
   },
   "outputs": [
    {
     "name": "stderr",
     "output_type": "stream",
     "text": [
      "/Users/alexandreattia/Desktop/Work/workenv/lib/python3.5/site-packages/ipykernel/__main__.py:5: SettingWithCopyWarning: \n",
      "A value is trying to be set on a copy of a slice from a DataFrame.\n",
      "Try using .loc[row_indexer,col_indexer] = value instead\n",
      "\n",
      "See the caveats in the documentation: http://pandas.pydata.org/pandas-docs/stable/indexing.html#indexing-view-versus-copy\n"
     ]
    }
   ],
   "source": [
    "label_encoders = {}\n",
    "col_encode = [\"Opponent\", \"Place\", \"Position\", \"Team\"]\n",
    "for col in col_encode:\n",
    "    label_encoders[col.lower()] = LabelEncoder()\n",
    "    X[col] = label_encoders[col.lower()].fit_transform(X[col])"
   ]
  },
  {
   "cell_type": "code",
   "execution_count": 102,
   "metadata": {
    "ExecuteTime": {
     "end_time": "2017-05-21T05:26:52.612818Z",
     "start_time": "2017-05-21T05:26:52.604346Z"
    },
    "collapsed": true
   },
   "outputs": [],
   "source": [
    "X_train, X_test, y_train, y_test = train_test_split(X, y, test_size=0.3)"
   ]
  },
  {
   "cell_type": "code",
   "execution_count": 123,
   "metadata": {
    "ExecuteTime": {
     "end_time": "2017-05-21T05:28:51.343565Z",
     "start_time": "2017-05-21T05:28:51.299523Z"
    }
   },
   "outputs": [
    {
     "name": "stdout",
     "output_type": "stream",
     "text": [
      "5-fold cross validation mean square error : 0.86\n"
     ]
    }
   ],
   "source": [
    "d = []\n",
    "k_fold = 5\n",
    "for k in range(k_fold): \n",
    "    X_train, X_test, y_train, y_test = train_test_split(X, y, test_size=1/k_fold)\n",
    "    ridge = Ridge(alpha=0.001, max_iter=10000, tol=0.0001)\n",
    "    ridge.fit(X_train, y_train)\n",
    "    d.append(np.mean((ridge.predict(X_test) - y_test) ** 2))\n",
    "print('%d-fold cross validation mean square error : %.2f' % (k_fold, np.mean(d)))\n",
    "ridge = Ridge(alpha=0.001, max_iter=10000, tol=0.0001)\n",
    "_ = ridge.fit(X, y)"
   ]
  },
  {
   "cell_type": "code",
   "execution_count": 137,
   "metadata": {
    "ExecuteTime": {
     "end_time": "2017-05-21T05:37:59.969171Z",
     "start_time": "2017-05-21T05:37:59.963504Z"
    }
   },
   "outputs": [
    {
     "name": "stdout",
     "output_type": "stream",
     "text": [
      "The 10 most important parameters are:\n",
      "Penaltymissed : -0.59\n",
      "Goal : 0.43\n",
      "Assist : 0.36\n",
      "Redcard : -0.31\n",
      "Goal Opponent : -0.22\n",
      "Shotonpost : 0.19\n",
      "ShotsOT : 0.16\n",
      "Goal Team : 0.15\n",
      "Yellowcard : -0.09\n",
      "Place : -0.09\n"
     ]
    }
   ],
   "source": [
    "top_k = 10\n",
    "l = np.argsort(list(map(np.abs, ridge.coef_)))[::-1][:top_k]\n",
    "print(\"The %d most important parameters are:\\n%s\" % (top_k,'\\n'.join(['%s : %.2f' % (a,b) \n",
    "                                                                       for a,b in zip(X_train.columns[l], ridge.coef_[l])])))"
   ]
  },
  {
   "cell_type": "code",
   "execution_count": null,
   "metadata": {
    "collapsed": true
   },
   "outputs": [],
   "source": []
  }
 ],
 "metadata": {
  "kernelspec": {
   "display_name": "workenv",
   "language": "python",
   "name": "workenv"
  },
  "language_info": {
   "codemirror_mode": {
    "name": "ipython",
    "version": 3
   },
   "file_extension": ".py",
   "mimetype": "text/x-python",
   "name": "python",
   "nbconvert_exporter": "python",
   "pygments_lexer": "ipython3",
   "version": "3.5.2"
  },
  "nav_menu": {},
  "toc": {
   "navigate_menu": true,
   "number_sections": true,
   "sideBar": true,
   "threshold": 6,
   "toc_cell": false,
   "toc_section_display": "block",
   "toc_window_display": false
  }
 },
 "nbformat": 4,
 "nbformat_minor": 2
}
